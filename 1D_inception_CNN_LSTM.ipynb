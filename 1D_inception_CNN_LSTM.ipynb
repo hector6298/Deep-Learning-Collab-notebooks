{
  "nbformat": 4,
  "nbformat_minor": 0,
  "metadata": {
    "colab": {
      "name": "1D inception CNN_LSTM",
      "provenance": [],
      "authorship_tag": "ABX9TyNqwS0Ch5H+wJwpbtDNhR7+",
      "include_colab_link": true
    },
    "kernelspec": {
      "name": "python3",
      "display_name": "Python 3"
    }
  },
  "cells": [
    {
      "cell_type": "markdown",
      "metadata": {
        "id": "view-in-github",
        "colab_type": "text"
      },
      "source": [
        "<a href=\"https://colab.research.google.com/github/hector6298/Deep-Learning-Collab-notebooks/blob/master/1D_inception_CNN_LSTM.ipynb\" target=\"_parent\"><img src=\"https://colab.research.google.com/assets/colab-badge.svg\" alt=\"Open In Colab\"/></a>"
      ]
    },
    {
      "cell_type": "markdown",
      "metadata": {
        "id": "kI9zXip9p_id",
        "colab_type": "text"
      },
      "source": [
        "##Inception 1D"
      ]
    },
    {
      "cell_type": "code",
      "metadata": {
        "id": "kuQkiowsqCMY",
        "colab_type": "code",
        "colab": {}
      },
      "source": [
        "import tensorflow as tf\n",
        "from tensorflow.keras.layers import Layer, Conv1D, MaxPool1D, Concatenate, BatchNormalization, AveragePooling1D, Input, LSTM, Flatten, Add\n",
        "from tensorflow.keras import activations, Model\n",
        "\n",
        "import matplotlib.pyplot as plt\n",
        "import numpy as np"
      ],
      "execution_count": 47,
      "outputs": []
    },
    {
      "cell_type": "code",
      "metadata": {
        "id": "WQjQFJC25IgC",
        "colab_type": "code",
        "colab": {}
      },
      "source": [
        "class Conv1D_bn(Layer):\n",
        "  def __init__(self, \n",
        "               filters, \n",
        "               kernel_size, \n",
        "               strides, \n",
        "               padding='causal', \n",
        "               activation='relu', \n",
        "               use_bias=False,\n",
        "               name=None):\n",
        "    super().__init__()\n",
        "    self.conv = Conv1D(filters=filters,  \n",
        "                        kernel_size=kernel_size,\n",
        "                        strides=strides,\n",
        "                        activation=activation,\n",
        "                        padding=padding,\n",
        "                       use_bias=use_bias,\n",
        "                       name=name)\n",
        "    self.batchNormalization = BatchNormalization()\n",
        "    self.activation = activations.get(activation)\n",
        "  \n",
        "  def call(self, inputs):\n",
        "    x = self.conv(inputs)\n",
        "    x = self.batchNormalization(x)\n",
        "    if self.activation is not None:\n",
        "      x = self.activation(x)\n",
        "    return x"
      ],
      "execution_count": 48,
      "outputs": []
    },
    {
      "cell_type": "code",
      "metadata": {
        "id": "TchKAIMWfqIS",
        "colab_type": "code",
        "colab": {}
      },
      "source": [
        "class StemModule(Layer):\n",
        "  def __init__(self, num_filters=32, kernel_sizes=[10,20,40],activation='relu', **kwargs):\n",
        "    super().__init__(**kwargs)\n",
        "    self.num_filters = num_filters\n",
        "    self.kernel_size = kernel_sizes\n",
        "    self.activation = activations.get(activation)\n",
        "\n",
        "    self.conv1_1 = Conv1D_bn(filters=self.num_filters,  # 228 --> 114\n",
        "                        kernel_size=self.kernel_size[0],\n",
        "                        strides=1,\n",
        "                        activation=self.activation,\n",
        "                        padding='causal')\n",
        "    self.conv1_2 = Conv1D_bn(filters=self.num_filters,\n",
        "                        kernel_size=self.kernel_size[0],\n",
        "                        strides=1,\n",
        "                        activation=self.activation,\n",
        "                        padding='causal')\n",
        "    self.conv1_3 = Conv1D_bn(filters=self.num_filters,\n",
        "                        kernel_size=self.kernel_size[0],\n",
        "                        strides=1,\n",
        "                        activation=self.activation,\n",
        "                        padding='causal')\n",
        "    self.conv1_4 = Conv1D_bn(filters=self.num_filters,  # 228 --> 114\n",
        "                        kernel_size=self.kernel_size[0],\n",
        "                        strides=2,\n",
        "                        activation=self.activation,\n",
        "                        padding='causal')\n",
        "    self.pool1 = MaxPool1D(pool_size=3,strides=2, padding='same') # 114 --> 57\n",
        "    \n",
        "\n",
        "    self.conv2_1x1 = Conv1D_bn(filters=self.num_filters*2, # 114 --> 57\n",
        "                        kernel_size=1,\n",
        "                        strides=1,\n",
        "                        activation=self.activation,\n",
        "                        padding='causal')\n",
        "    self.conv3 = Conv1D_bn(filters=self.num_filters*2, \n",
        "                        kernel_size=self.kernel_size[2],\n",
        "                        strides=1,\n",
        "                        activation=self.activation,\n",
        "                        padding='causal')\n",
        "    \n",
        "    self.conv4 = Conv1D_bn(filters=self.num_filters*2,  # 228 --> 114\n",
        "                        kernel_size=self.kernel_size[0],\n",
        "                        strides=2,\n",
        "                        activation=self.activation,\n",
        "                        padding='causal')\n",
        "    self.pool2 = MaxPool1D(pool_size=3,strides=2, padding='same')\n",
        "    \n",
        "\n",
        "    \n",
        "  def call(self, inputs):\n",
        "    x = self.conv1_1(inputs)\n",
        "    x = self.conv1_2(x)\n",
        "    x = self.conv1_3(x)\n",
        "\n",
        "    b1 = self.conv1_4(x)\n",
        "    b2 = self.pool1(x)\n",
        "    concat1 = Concatenate()([b1,b2])\n",
        "    concat1 = self.activation(concat1)\n",
        "\n",
        "    x = self.conv2_1x1(concat1)\n",
        "    x = self.conv3(x)\n",
        "\n",
        "    b1 = self.conv4(x)\n",
        "    b2 = self.pool2(x)\n",
        "    concat2 = Concatenate()([b1,b2])\n",
        "    concat2 = self.activation(concat1)\n",
        "\n",
        "    return concat2\n",
        "    "
      ],
      "execution_count": 49,
      "outputs": []
    },
    {
      "cell_type": "code",
      "metadata": {
        "id": "4jq5ME_AqmCC",
        "colab_type": "code",
        "colab": {}
      },
      "source": [
        "class InceptionModule(Layer):\n",
        "  def __init__(self, num_filters=32, activation='relu', **kwargs):\n",
        "    super().__init__(**kwargs)\n",
        "    self.num_filters = num_filters\n",
        "    self.activation = activations.get(activation)\n",
        "\n",
        "    self.conv1 = Conv1D_bn(filters=self.num_filters//3, \n",
        "                        kernel_size=11,\n",
        "                        strides=1,\n",
        "                        activation=self.activation,\n",
        "                        padding='causal')\n",
        "    \n",
        "    self.conv2 = Conv1D_bn(filters=self.num_filters//3, \n",
        "                        kernel_size=21,\n",
        "                        strides=1,\n",
        "                        activation=self.activation,\n",
        "                        padding='causal')\n",
        "  \n",
        "    #factored convolution\n",
        "    self.conv3_1 = Conv1D_bn(filters=self.num_filters//3, \n",
        "                        kernel_size=21,\n",
        "                        strides=1,\n",
        "                        activation=self.activation,\n",
        "                        padding='causal')\n",
        "    self.conv3_2 = Conv1D_bn(filters=self.num_filters//3, \n",
        "                        kernel_size=11,\n",
        "                        strides=1,\n",
        "                        activation=self.activation,\n",
        "                        padding='causal')\n",
        "    self.conv3_3 = Conv1D_bn(filters=self.num_filters//3, \n",
        "                        kernel_size=11,\n",
        "                        strides=1,\n",
        "                        activation=self.activation,\n",
        "                        padding='causal')\n",
        "   \n",
        "    #self.pool = AveragePooling1D(pool_size=3,strides=1, padding='same')\n",
        "    self.bottleneck = Conv1D_bn(filters=self.num_filters, strides=1, kernel_size=1, use_bias=False, padding='causal')\n",
        "\n",
        "  def call(self,inputs):\n",
        "    x = self.bottleneck(inputs)\n",
        "    #x_pool = self.pool(inputs)\n",
        "    c1 = self.conv1(x)\n",
        "    c2 = self.conv2(x)\n",
        "    c3_1 = self.conv3_1(x)\n",
        "    c3_2 = self.conv3_2(c3_1)\n",
        "    c3_3 = self.conv3_3(c3_2)\n",
        "    #c4 = self.bottleneck(x_pool)\n",
        "    concat = Concatenate()([c1,c2,c3_3])\n",
        "    return self.activation(concat)\n"
      ],
      "execution_count": 50,
      "outputs": []
    },
    {
      "cell_type": "code",
      "metadata": {
        "id": "daU4-uh8xUwd",
        "colab_type": "code",
        "colab": {}
      },
      "source": [
        "class reductionModule(Layer):\n",
        "  def __init__(self, num_filters, activation='relu', **kwargs):\n",
        "    super().__init__(**kwargs)\n",
        "    self.num_filters = num_filters\n",
        "    self.activation = activations.get(activation)\n",
        "\n",
        "    self.bottleneck = Conv1D_bn(filters=self.num_filters, strides=1, kernel_size=1, use_bias=False, activation=activation, padding='causal')\n",
        "    self.pool = MaxPool1D(pool_size=3, strides=2, padding='same')\n",
        "\n",
        "    self.conv1 = Conv1D_bn(filters=self.num_filters//2, kernel_size=11, strides=2, activation=activation, padding='causal')\n",
        "    self.conv2 = Conv1D_bn(filters=self.num_filters//2, kernel_size=21, strides=2, activation=activation, padding='causal')\n",
        "  \n",
        "  def call(self, inputs):\n",
        "    x = self.bottleneck(inputs)\n",
        "  \n",
        "    x_pool = self.pool(inputs)\n",
        "    x1 = self.conv1(x)\n",
        "    x2 = self.conv2(x)\n",
        "    concat = Concatenate()([x1,x2,x_pool])\n",
        "    out = self.activation(concat)\n",
        "    return out\n",
        "    \n"
      ],
      "execution_count": 51,
      "outputs": []
    },
    {
      "cell_type": "code",
      "metadata": {
        "id": "doRs4BMIqXUI",
        "colab_type": "code",
        "colab": {}
      },
      "source": [
        "class skip_connection_inception(Layer):\n",
        "  def __init__(self,out_tensor, activation='relu'):\n",
        "    super().__init__()\n",
        "    self.activation = activations.get(activation)\n",
        "    self.bn = BatchNormalization()\n",
        "    self.conv = Conv1D_bn(filters=int(out_tensor.shape[-1]), \n",
        "                         kernel_size=1, \n",
        "                         strides=1,\n",
        "                         padding='causal',\n",
        "                         use_bias=False)\n",
        "  def call(self, input_tensor, out_tensor):\n",
        "    shortcut = self.conv(input_tensor)\n",
        "    shortcut = self.bn(shortcut)\n",
        "    out = Add()([shortcut, out_tensor])\n",
        "    return self.activation(out)\n"
      ],
      "execution_count": 52,
      "outputs": []
    },
    {
      "cell_type": "code",
      "metadata": {
        "id": "4MQivOm_hQif",
        "colab_type": "code",
        "colab": {}
      },
      "source": [
        "class skip_connection_stem(Layer):\n",
        "  def __init(self,activation='relu', equal_filters=True):\n",
        "    super().__init__()\n",
        "    self.activation = activations.get(activation)\n",
        "    self.equal_fitlers = equal_filters\n",
        "  def call(self, input_tensor, out_tensor):\n",
        "    \n",
        "    if self.equal_filters:\n",
        "      input_tensor = Conv1D_bn(filters=int(out_tensor.shape[-1]), \n",
        "                          kernel_size=1, \n",
        "                          padding='causal', \n",
        "                          use_bias=False)(input_tensor)\n",
        "    shortcut = MaxPooling1D(pool_size=3,\n",
        "                            strides=2,\n",
        "                            padding='same')(input_tensor)\n",
        "    shortcut = batchNormalization()(shortcut)\n",
        "    out = Add()([shortcut, out_tensor])\n",
        "    return self.activation(out)"
      ],
      "execution_count": 53,
      "outputs": []
    },
    {
      "cell_type": "code",
      "metadata": {
        "id": "dZmvZF7HKbsx",
        "colab_type": "code",
        "colab": {}
      },
      "source": [
        "def construct_timeception(input_shape):\n",
        "\n",
        "  ############################# INPUT ########################\n",
        "  inputs = Input(shape=input_shape)\n",
        "  ######################## STEM ##############################\n",
        "  stem = StemModule(num_filters=8,\n",
        "                    activation='swish')(inputs)\n",
        "  ######################## BLOCK 1 ###########################\n",
        "  inceptionb1_1 = InceptionModule(num_filters=stem.shape[-1],\n",
        "                               activation='swish')(stem)\n",
        "  inceptionb1_2 = InceptionModule(num_filters=stem.shape[-1],\n",
        "                               activation='swish')(inceptionb1_1)\n",
        "  inceptionb1_3 = InceptionModule(num_filters=stem.shape[-1],\n",
        "                               activation='swish')(inceptionb1_2)\n",
        "  residual1 = skip_connection_inception(inceptionb1_3, activation='swish')(stem,inceptionb1_3)\n",
        "\n",
        "  reduction1 = reductionModule(num_filters=residual1.shape[-1],\n",
        "                               activation='swish')(residual1)\n",
        "  #rnn1 = LSTM(reduction1.shape[-1], return_sequences=True)(reduction1)\n",
        "  ######################## BLOCK 2 ###########################\n",
        "  inceptionb2_1 = InceptionModule(num_filters=reduction1.shape[-1],\n",
        "                               activation='swish')(reduction1)\n",
        "  inceptionb2_2 = InceptionModule(num_filters=reduction1.shape[-1],\n",
        "                               activation='swish')(inceptionb2_1)\n",
        "  inceptionb2_3 = InceptionModule(num_filters=reduction1.shape[-1],\n",
        "                               activation='swish')(inceptionb2_2)\n",
        "  residual2 = skip_connection_inception(inceptionb2_3, activation='swish')(reduction1,inceptionb2_3)\n",
        "\n",
        "  reduction2 = reductionModule(num_filters=residual2.shape[-1],\n",
        "                               activation='swish')(residual2)\n",
        "  #rnn2 = LSTM(reduction2.shape[-1], return_sequences=True)(reduction2)\n",
        "  ######################## BLOCK 3 ###########################\n",
        "  inceptionb3_1 = InceptionModule(num_filters=reduction1.shape[-1],\n",
        "                               activation='swish')(reduction2)\n",
        "  inceptionb3_2 = InceptionModule(num_filters=reduction2.shape[-1],\n",
        "                               activation='swish')(inceptionb3_1)\n",
        "  inceptionb3_3 = InceptionModule(num_filters=reduction2.shape[-1],\n",
        "                               activation='swish')(inceptionb3_2)\n",
        "  residual3 = skip_connection_inception(inceptionb3_3, activation='swish')(reduction2,inceptionb3_3)\n",
        "\n",
        "  reduction3 = reductionModule(num_filters=residual3.shape[-1],\n",
        "                               activation='swish')(residual3)\n",
        "  \n",
        "  rnn3 = LSTM(10, return_sequences=True)(reduction3)\n",
        "  out = LSTM(1, return_sequences=False)(rnn3)\n",
        "  \n",
        "  return Model(inputs=inputs, outputs=out)\n",
        "  \n",
        "  "
      ],
      "execution_count": 65,
      "outputs": []
    },
    {
      "cell_type": "code",
      "metadata": {
        "id": "_HaQioe_ZJ81",
        "colab_type": "code",
        "colab": {}
      },
      "source": [
        "model = construct_timeception(input_shape=(224,1))\n",
        "model.compile(optimizer='adam', loss='mse')"
      ],
      "execution_count": 66,
      "outputs": []
    },
    {
      "cell_type": "code",
      "metadata": {
        "id": "cqkbYAYNZZQ9",
        "colab_type": "code",
        "colab": {
          "base_uri": "https://localhost:8080/",
          "height": 52
        },
        "outputId": "a6bbdc11-d173-4837-9172-3f381f6b0520"
      },
      "source": [
        "def train_function(x):\n",
        "    return np.sin(x)\n",
        "def split_sequence(sequence, n_steps):\n",
        "        X, y = list(), list()\n",
        "        for i in range(len(sequence)):\n",
        "                end_ix = i + n_steps\n",
        "                if end_ix > len(sequence)-1:\n",
        "                        break\n",
        "                seq_x, seq_y = sequence[i:end_ix], sequence[end_ix]\n",
        "                X.append(seq_x)\n",
        "                y.append(seq_y)\n",
        "        return np.array(X), np.array(y)\n",
        "# define input sequence\n",
        "xaxis = np.arange(-50*np.pi, 50*np.pi, 0.1)\n",
        "train_seq = train_function(xaxis)\n",
        "n_steps = 224\n",
        "X, y = split_sequence(train_seq, n_steps)\n",
        "# reshape from [samples, timesteps] into [samples, timesteps, features]\n",
        "n_features = 1\n",
        "X = X.reshape((X.shape[0], X.shape[1], n_features))\n",
        "print(\"X.shape = {}\".format(X.shape))\n",
        "print(\"y.shape = {}\".format(y.shape))"
      ],
      "execution_count": 70,
      "outputs": [
        {
          "output_type": "stream",
          "text": [
            "X.shape = (2918, 224, 1)\n",
            "y.shape = (2918,)\n"
          ],
          "name": "stdout"
        }
      ]
    },
    {
      "cell_type": "code",
      "metadata": {
        "id": "6Z4hctV3ZwAm",
        "colab_type": "code",
        "colab": {
          "base_uri": "https://localhost:8080/",
          "height": 609
        },
        "outputId": "174b0a22-dd2d-48a4-c43c-02afd1e4cf58"
      },
      "source": [
        "history = model.fit(X, y, epochs=20, verbose=1)\n",
        "plt.plot(history.history['loss'], label=\"loss\")\n",
        "plt.legend(loc=\"upper right\")\n",
        "plt.show()"
      ],
      "execution_count": 71,
      "outputs": [
        {
          "output_type": "stream",
          "text": [
            "Epoch 1/20\n",
            "92/92 [==============================] - 34s 367ms/step - loss: 0.0012\n",
            "Epoch 2/20\n",
            "92/92 [==============================] - 36s 394ms/step - loss: 0.0058\n",
            "Epoch 3/20\n",
            "92/92 [==============================] - 35s 384ms/step - loss: 0.0247\n",
            "Epoch 4/20\n",
            "92/92 [==============================] - 34s 374ms/step - loss: 0.0046\n",
            "Epoch 5/20\n",
            "92/92 [==============================] - 35s 379ms/step - loss: 0.0028\n",
            "Epoch 6/20\n",
            "92/92 [==============================] - 38s 413ms/step - loss: 0.0013\n",
            "Epoch 7/20\n",
            "10/92 [==>...........................] - ETA: 27s - loss: 0.0010"
          ],
          "name": "stdout"
        },
        {
          "output_type": "error",
          "ename": "KeyboardInterrupt",
          "evalue": "ignored",
          "traceback": [
            "\u001b[0;31m---------------------------------------------------------------------------\u001b[0m",
            "\u001b[0;31mKeyboardInterrupt\u001b[0m                         Traceback (most recent call last)",
            "\u001b[0;32m<ipython-input-71-ce354eef4122>\u001b[0m in \u001b[0;36m<module>\u001b[0;34m()\u001b[0m\n\u001b[0;32m----> 1\u001b[0;31m \u001b[0mhistory\u001b[0m \u001b[0;34m=\u001b[0m \u001b[0mmodel\u001b[0m\u001b[0;34m.\u001b[0m\u001b[0mfit\u001b[0m\u001b[0;34m(\u001b[0m\u001b[0mX\u001b[0m\u001b[0;34m,\u001b[0m \u001b[0my\u001b[0m\u001b[0;34m,\u001b[0m \u001b[0mepochs\u001b[0m\u001b[0;34m=\u001b[0m\u001b[0;36m20\u001b[0m\u001b[0;34m,\u001b[0m \u001b[0mverbose\u001b[0m\u001b[0;34m=\u001b[0m\u001b[0;36m1\u001b[0m\u001b[0;34m)\u001b[0m\u001b[0;34m\u001b[0m\u001b[0;34m\u001b[0m\u001b[0m\n\u001b[0m\u001b[1;32m      2\u001b[0m \u001b[0mplt\u001b[0m\u001b[0;34m.\u001b[0m\u001b[0mplot\u001b[0m\u001b[0;34m(\u001b[0m\u001b[0mhistory\u001b[0m\u001b[0;34m.\u001b[0m\u001b[0mhistory\u001b[0m\u001b[0;34m[\u001b[0m\u001b[0;34m'loss'\u001b[0m\u001b[0;34m]\u001b[0m\u001b[0;34m,\u001b[0m \u001b[0mlabel\u001b[0m\u001b[0;34m=\u001b[0m\u001b[0;34m\"loss\"\u001b[0m\u001b[0;34m)\u001b[0m\u001b[0;34m\u001b[0m\u001b[0;34m\u001b[0m\u001b[0m\n\u001b[1;32m      3\u001b[0m \u001b[0mplt\u001b[0m\u001b[0;34m.\u001b[0m\u001b[0mlegend\u001b[0m\u001b[0;34m(\u001b[0m\u001b[0mloc\u001b[0m\u001b[0;34m=\u001b[0m\u001b[0;34m\"upper right\"\u001b[0m\u001b[0;34m)\u001b[0m\u001b[0;34m\u001b[0m\u001b[0;34m\u001b[0m\u001b[0m\n\u001b[1;32m      4\u001b[0m \u001b[0mplt\u001b[0m\u001b[0;34m.\u001b[0m\u001b[0mshow\u001b[0m\u001b[0;34m(\u001b[0m\u001b[0;34m)\u001b[0m\u001b[0;34m\u001b[0m\u001b[0;34m\u001b[0m\u001b[0m\n",
            "\u001b[0;32m/usr/local/lib/python3.6/dist-packages/tensorflow/python/keras/engine/training.py\u001b[0m in \u001b[0;36m_method_wrapper\u001b[0;34m(self, *args, **kwargs)\u001b[0m\n\u001b[1;32m    106\u001b[0m   \u001b[0;32mdef\u001b[0m \u001b[0m_method_wrapper\u001b[0m\u001b[0;34m(\u001b[0m\u001b[0mself\u001b[0m\u001b[0;34m,\u001b[0m \u001b[0;34m*\u001b[0m\u001b[0margs\u001b[0m\u001b[0;34m,\u001b[0m \u001b[0;34m**\u001b[0m\u001b[0mkwargs\u001b[0m\u001b[0;34m)\u001b[0m\u001b[0;34m:\u001b[0m\u001b[0;34m\u001b[0m\u001b[0;34m\u001b[0m\u001b[0m\n\u001b[1;32m    107\u001b[0m     \u001b[0;32mif\u001b[0m \u001b[0;32mnot\u001b[0m \u001b[0mself\u001b[0m\u001b[0;34m.\u001b[0m\u001b[0m_in_multi_worker_mode\u001b[0m\u001b[0;34m(\u001b[0m\u001b[0;34m)\u001b[0m\u001b[0;34m:\u001b[0m  \u001b[0;31m# pylint: disable=protected-access\u001b[0m\u001b[0;34m\u001b[0m\u001b[0;34m\u001b[0m\u001b[0m\n\u001b[0;32m--> 108\u001b[0;31m       \u001b[0;32mreturn\u001b[0m \u001b[0mmethod\u001b[0m\u001b[0;34m(\u001b[0m\u001b[0mself\u001b[0m\u001b[0;34m,\u001b[0m \u001b[0;34m*\u001b[0m\u001b[0margs\u001b[0m\u001b[0;34m,\u001b[0m \u001b[0;34m**\u001b[0m\u001b[0mkwargs\u001b[0m\u001b[0;34m)\u001b[0m\u001b[0;34m\u001b[0m\u001b[0;34m\u001b[0m\u001b[0m\n\u001b[0m\u001b[1;32m    109\u001b[0m \u001b[0;34m\u001b[0m\u001b[0m\n\u001b[1;32m    110\u001b[0m     \u001b[0;31m# Running inside `run_distribute_coordinator` already.\u001b[0m\u001b[0;34m\u001b[0m\u001b[0;34m\u001b[0m\u001b[0;34m\u001b[0m\u001b[0m\n",
            "\u001b[0;32m/usr/local/lib/python3.6/dist-packages/tensorflow/python/keras/engine/training.py\u001b[0m in \u001b[0;36mfit\u001b[0;34m(self, x, y, batch_size, epochs, verbose, callbacks, validation_split, validation_data, shuffle, class_weight, sample_weight, initial_epoch, steps_per_epoch, validation_steps, validation_batch_size, validation_freq, max_queue_size, workers, use_multiprocessing)\u001b[0m\n\u001b[1;32m   1096\u001b[0m                 batch_size=batch_size):\n\u001b[1;32m   1097\u001b[0m               \u001b[0mcallbacks\u001b[0m\u001b[0;34m.\u001b[0m\u001b[0mon_train_batch_begin\u001b[0m\u001b[0;34m(\u001b[0m\u001b[0mstep\u001b[0m\u001b[0;34m)\u001b[0m\u001b[0;34m\u001b[0m\u001b[0;34m\u001b[0m\u001b[0m\n\u001b[0;32m-> 1098\u001b[0;31m               \u001b[0mtmp_logs\u001b[0m \u001b[0;34m=\u001b[0m \u001b[0mtrain_function\u001b[0m\u001b[0;34m(\u001b[0m\u001b[0miterator\u001b[0m\u001b[0;34m)\u001b[0m\u001b[0;34m\u001b[0m\u001b[0;34m\u001b[0m\u001b[0m\n\u001b[0m\u001b[1;32m   1099\u001b[0m               \u001b[0;32mif\u001b[0m \u001b[0mdata_handler\u001b[0m\u001b[0;34m.\u001b[0m\u001b[0mshould_sync\u001b[0m\u001b[0;34m:\u001b[0m\u001b[0;34m\u001b[0m\u001b[0;34m\u001b[0m\u001b[0m\n\u001b[1;32m   1100\u001b[0m                 \u001b[0mcontext\u001b[0m\u001b[0;34m.\u001b[0m\u001b[0masync_wait\u001b[0m\u001b[0;34m(\u001b[0m\u001b[0;34m)\u001b[0m\u001b[0;34m\u001b[0m\u001b[0;34m\u001b[0m\u001b[0m\n",
            "\u001b[0;32m/usr/local/lib/python3.6/dist-packages/tensorflow/python/eager/def_function.py\u001b[0m in \u001b[0;36m__call__\u001b[0;34m(self, *args, **kwds)\u001b[0m\n\u001b[1;32m    778\u001b[0m       \u001b[0;32melse\u001b[0m\u001b[0;34m:\u001b[0m\u001b[0;34m\u001b[0m\u001b[0;34m\u001b[0m\u001b[0m\n\u001b[1;32m    779\u001b[0m         \u001b[0mcompiler\u001b[0m \u001b[0;34m=\u001b[0m \u001b[0;34m\"nonXla\"\u001b[0m\u001b[0;34m\u001b[0m\u001b[0;34m\u001b[0m\u001b[0m\n\u001b[0;32m--> 780\u001b[0;31m         \u001b[0mresult\u001b[0m \u001b[0;34m=\u001b[0m \u001b[0mself\u001b[0m\u001b[0;34m.\u001b[0m\u001b[0m_call\u001b[0m\u001b[0;34m(\u001b[0m\u001b[0;34m*\u001b[0m\u001b[0margs\u001b[0m\u001b[0;34m,\u001b[0m \u001b[0;34m**\u001b[0m\u001b[0mkwds\u001b[0m\u001b[0;34m)\u001b[0m\u001b[0;34m\u001b[0m\u001b[0;34m\u001b[0m\u001b[0m\n\u001b[0m\u001b[1;32m    781\u001b[0m \u001b[0;34m\u001b[0m\u001b[0m\n\u001b[1;32m    782\u001b[0m       \u001b[0mnew_tracing_count\u001b[0m \u001b[0;34m=\u001b[0m \u001b[0mself\u001b[0m\u001b[0;34m.\u001b[0m\u001b[0m_get_tracing_count\u001b[0m\u001b[0;34m(\u001b[0m\u001b[0;34m)\u001b[0m\u001b[0;34m\u001b[0m\u001b[0;34m\u001b[0m\u001b[0m\n",
            "\u001b[0;32m/usr/local/lib/python3.6/dist-packages/tensorflow/python/eager/def_function.py\u001b[0m in \u001b[0;36m_call\u001b[0;34m(self, *args, **kwds)\u001b[0m\n\u001b[1;32m    805\u001b[0m       \u001b[0;31m# In this case we have created variables on the first call, so we run the\u001b[0m\u001b[0;34m\u001b[0m\u001b[0;34m\u001b[0m\u001b[0;34m\u001b[0m\u001b[0m\n\u001b[1;32m    806\u001b[0m       \u001b[0;31m# defunned version which is guaranteed to never create variables.\u001b[0m\u001b[0;34m\u001b[0m\u001b[0;34m\u001b[0m\u001b[0;34m\u001b[0m\u001b[0m\n\u001b[0;32m--> 807\u001b[0;31m       \u001b[0;32mreturn\u001b[0m \u001b[0mself\u001b[0m\u001b[0;34m.\u001b[0m\u001b[0m_stateless_fn\u001b[0m\u001b[0;34m(\u001b[0m\u001b[0;34m*\u001b[0m\u001b[0margs\u001b[0m\u001b[0;34m,\u001b[0m \u001b[0;34m**\u001b[0m\u001b[0mkwds\u001b[0m\u001b[0;34m)\u001b[0m  \u001b[0;31m# pylint: disable=not-callable\u001b[0m\u001b[0;34m\u001b[0m\u001b[0;34m\u001b[0m\u001b[0m\n\u001b[0m\u001b[1;32m    808\u001b[0m     \u001b[0;32melif\u001b[0m \u001b[0mself\u001b[0m\u001b[0;34m.\u001b[0m\u001b[0m_stateful_fn\u001b[0m \u001b[0;32mis\u001b[0m \u001b[0;32mnot\u001b[0m \u001b[0;32mNone\u001b[0m\u001b[0;34m:\u001b[0m\u001b[0;34m\u001b[0m\u001b[0;34m\u001b[0m\u001b[0m\n\u001b[1;32m    809\u001b[0m       \u001b[0;31m# Release the lock early so that multiple threads can perform the call\u001b[0m\u001b[0;34m\u001b[0m\u001b[0;34m\u001b[0m\u001b[0;34m\u001b[0m\u001b[0m\n",
            "\u001b[0;32m/usr/local/lib/python3.6/dist-packages/tensorflow/python/eager/function.py\u001b[0m in \u001b[0;36m__call__\u001b[0;34m(self, *args, **kwargs)\u001b[0m\n\u001b[1;32m   2827\u001b[0m     \u001b[0;32mwith\u001b[0m \u001b[0mself\u001b[0m\u001b[0;34m.\u001b[0m\u001b[0m_lock\u001b[0m\u001b[0;34m:\u001b[0m\u001b[0;34m\u001b[0m\u001b[0;34m\u001b[0m\u001b[0m\n\u001b[1;32m   2828\u001b[0m       \u001b[0mgraph_function\u001b[0m\u001b[0;34m,\u001b[0m \u001b[0margs\u001b[0m\u001b[0;34m,\u001b[0m \u001b[0mkwargs\u001b[0m \u001b[0;34m=\u001b[0m \u001b[0mself\u001b[0m\u001b[0;34m.\u001b[0m\u001b[0m_maybe_define_function\u001b[0m\u001b[0;34m(\u001b[0m\u001b[0margs\u001b[0m\u001b[0;34m,\u001b[0m \u001b[0mkwargs\u001b[0m\u001b[0;34m)\u001b[0m\u001b[0;34m\u001b[0m\u001b[0;34m\u001b[0m\u001b[0m\n\u001b[0;32m-> 2829\u001b[0;31m     \u001b[0;32mreturn\u001b[0m \u001b[0mgraph_function\u001b[0m\u001b[0;34m.\u001b[0m\u001b[0m_filtered_call\u001b[0m\u001b[0;34m(\u001b[0m\u001b[0margs\u001b[0m\u001b[0;34m,\u001b[0m \u001b[0mkwargs\u001b[0m\u001b[0;34m)\u001b[0m  \u001b[0;31m# pylint: disable=protected-access\u001b[0m\u001b[0;34m\u001b[0m\u001b[0;34m\u001b[0m\u001b[0m\n\u001b[0m\u001b[1;32m   2830\u001b[0m \u001b[0;34m\u001b[0m\u001b[0m\n\u001b[1;32m   2831\u001b[0m   \u001b[0;34m@\u001b[0m\u001b[0mproperty\u001b[0m\u001b[0;34m\u001b[0m\u001b[0;34m\u001b[0m\u001b[0m\n",
            "\u001b[0;32m/usr/local/lib/python3.6/dist-packages/tensorflow/python/eager/function.py\u001b[0m in \u001b[0;36m_filtered_call\u001b[0;34m(self, args, kwargs, cancellation_manager)\u001b[0m\n\u001b[1;32m   1846\u001b[0m                            resource_variable_ops.BaseResourceVariable))],\n\u001b[1;32m   1847\u001b[0m         \u001b[0mcaptured_inputs\u001b[0m\u001b[0;34m=\u001b[0m\u001b[0mself\u001b[0m\u001b[0;34m.\u001b[0m\u001b[0mcaptured_inputs\u001b[0m\u001b[0;34m,\u001b[0m\u001b[0;34m\u001b[0m\u001b[0;34m\u001b[0m\u001b[0m\n\u001b[0;32m-> 1848\u001b[0;31m         cancellation_manager=cancellation_manager)\n\u001b[0m\u001b[1;32m   1849\u001b[0m \u001b[0;34m\u001b[0m\u001b[0m\n\u001b[1;32m   1850\u001b[0m   \u001b[0;32mdef\u001b[0m \u001b[0m_call_flat\u001b[0m\u001b[0;34m(\u001b[0m\u001b[0mself\u001b[0m\u001b[0;34m,\u001b[0m \u001b[0margs\u001b[0m\u001b[0;34m,\u001b[0m \u001b[0mcaptured_inputs\u001b[0m\u001b[0;34m,\u001b[0m \u001b[0mcancellation_manager\u001b[0m\u001b[0;34m=\u001b[0m\u001b[0;32mNone\u001b[0m\u001b[0;34m)\u001b[0m\u001b[0;34m:\u001b[0m\u001b[0;34m\u001b[0m\u001b[0;34m\u001b[0m\u001b[0m\n",
            "\u001b[0;32m/usr/local/lib/python3.6/dist-packages/tensorflow/python/eager/function.py\u001b[0m in \u001b[0;36m_call_flat\u001b[0;34m(self, args, captured_inputs, cancellation_manager)\u001b[0m\n\u001b[1;32m   1922\u001b[0m       \u001b[0;31m# No tape is watching; skip to running the function.\u001b[0m\u001b[0;34m\u001b[0m\u001b[0;34m\u001b[0m\u001b[0;34m\u001b[0m\u001b[0m\n\u001b[1;32m   1923\u001b[0m       return self._build_call_outputs(self._inference_function.call(\n\u001b[0;32m-> 1924\u001b[0;31m           ctx, args, cancellation_manager=cancellation_manager))\n\u001b[0m\u001b[1;32m   1925\u001b[0m     forward_backward = self._select_forward_and_backward_functions(\n\u001b[1;32m   1926\u001b[0m         \u001b[0margs\u001b[0m\u001b[0;34m,\u001b[0m\u001b[0;34m\u001b[0m\u001b[0;34m\u001b[0m\u001b[0m\n",
            "\u001b[0;32m/usr/local/lib/python3.6/dist-packages/tensorflow/python/eager/function.py\u001b[0m in \u001b[0;36mcall\u001b[0;34m(self, ctx, args, cancellation_manager)\u001b[0m\n\u001b[1;32m    548\u001b[0m               \u001b[0minputs\u001b[0m\u001b[0;34m=\u001b[0m\u001b[0margs\u001b[0m\u001b[0;34m,\u001b[0m\u001b[0;34m\u001b[0m\u001b[0;34m\u001b[0m\u001b[0m\n\u001b[1;32m    549\u001b[0m               \u001b[0mattrs\u001b[0m\u001b[0;34m=\u001b[0m\u001b[0mattrs\u001b[0m\u001b[0;34m,\u001b[0m\u001b[0;34m\u001b[0m\u001b[0;34m\u001b[0m\u001b[0m\n\u001b[0;32m--> 550\u001b[0;31m               ctx=ctx)\n\u001b[0m\u001b[1;32m    551\u001b[0m         \u001b[0;32melse\u001b[0m\u001b[0;34m:\u001b[0m\u001b[0;34m\u001b[0m\u001b[0;34m\u001b[0m\u001b[0m\n\u001b[1;32m    552\u001b[0m           outputs = execute.execute_with_cancellation(\n",
            "\u001b[0;32m/usr/local/lib/python3.6/dist-packages/tensorflow/python/eager/execute.py\u001b[0m in \u001b[0;36mquick_execute\u001b[0;34m(op_name, num_outputs, inputs, attrs, ctx, name)\u001b[0m\n\u001b[1;32m     58\u001b[0m     \u001b[0mctx\u001b[0m\u001b[0;34m.\u001b[0m\u001b[0mensure_initialized\u001b[0m\u001b[0;34m(\u001b[0m\u001b[0;34m)\u001b[0m\u001b[0;34m\u001b[0m\u001b[0;34m\u001b[0m\u001b[0m\n\u001b[1;32m     59\u001b[0m     tensors = pywrap_tfe.TFE_Py_Execute(ctx._handle, device_name, op_name,\n\u001b[0;32m---> 60\u001b[0;31m                                         inputs, attrs, num_outputs)\n\u001b[0m\u001b[1;32m     61\u001b[0m   \u001b[0;32mexcept\u001b[0m \u001b[0mcore\u001b[0m\u001b[0;34m.\u001b[0m\u001b[0m_NotOkStatusException\u001b[0m \u001b[0;32mas\u001b[0m \u001b[0me\u001b[0m\u001b[0;34m:\u001b[0m\u001b[0;34m\u001b[0m\u001b[0;34m\u001b[0m\u001b[0m\n\u001b[1;32m     62\u001b[0m     \u001b[0;32mif\u001b[0m \u001b[0mname\u001b[0m \u001b[0;32mis\u001b[0m \u001b[0;32mnot\u001b[0m \u001b[0;32mNone\u001b[0m\u001b[0;34m:\u001b[0m\u001b[0;34m\u001b[0m\u001b[0;34m\u001b[0m\u001b[0m\n",
            "\u001b[0;31mKeyboardInterrupt\u001b[0m: "
          ]
        }
      ]
    },
    {
      "cell_type": "code",
      "metadata": {
        "id": "b0Afl9ENZy7y",
        "colab_type": "code",
        "colab": {
          "base_uri": "https://localhost:8080/",
          "height": 269
        },
        "outputId": "eefcb1df-b779-4538-cc14-a1e2f3003fe5"
      },
      "source": [
        "test_xaxis = np.arange(0, 10*np.pi, 0.1)\n",
        "def test_function(x):\n",
        "    return np.cos(x)\n",
        "calc_y = test_function(test_xaxis)\n",
        "# start with initial n values, rest will be predicted\n",
        "test_y = calc_y[:n_steps]\n",
        "results = []\n",
        "for i in range( len(test_xaxis) - n_steps ):\n",
        "    net_input = test_y[i : i + n_steps]\n",
        "    net_input = net_input.reshape((1, n_steps, n_features))\n",
        "    y = model.predict(net_input, verbose=0)\n",
        "    test_y = np.append(test_y, y)\n",
        "plt.plot(test_xaxis[n_steps:], test_y[n_steps:], label=\"predicitons\")\n",
        "#plt.plot(test_xaxis, calc_y, label=\"ground truth\")\n",
        "plt.plot(test_xaxis[:n_steps], test_y[:n_steps], label=\"initial sequence\", color=\"red\")\n",
        "plt.legend(loc='upper left')\n",
        "plt.ylim(-2, 2)\n",
        "plt.show()"
      ],
      "execution_count": 73,
      "outputs": [
        {
          "output_type": "display_data",
          "data": {
            "image/png": "[encoded data removed]",
            "text/plain": [
              "<Figure size 432x288 with 1 Axes>"
            ]
          },
          "metadata": {
            "tags": [],
            "needs_background": "light"
          }
        }
      ]
    }
  ]
}